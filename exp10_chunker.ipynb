{
  "nbformat": 4,
  "nbformat_minor": 0,
  "metadata": {
    "colab": {
      "provenance": [],
      "authorship_tag": "ABX9TyPi/wEwArRm4gimemxzn5TE",
      "include_colab_link": true
    },
    "kernelspec": {
      "name": "python3",
      "display_name": "Python 3"
    },
    "language_info": {
      "name": "python"
    }
  },
  "cells": [
    {
      "cell_type": "markdown",
      "metadata": {
        "id": "view-in-github",
        "colab_type": "text"
      },
      "source": [
        "<a href=\"https://colab.research.google.com/github/kartikrupal/NLP_clg/blob/main/exp10_chunker.ipynb\" target=\"_parent\"><img src=\"https://colab.research.google.com/assets/colab-badge.svg\" alt=\"Open In Colab\"/></a>"
      ]
    },
    {
      "cell_type": "code",
      "execution_count": 12,
      "metadata": {
        "id": "Ni2hL_GssHvu"
      },
      "outputs": [],
      "source": [
        "import nltk"
      ]
    },
    {
      "cell_type": "code",
      "source": [
        "nltk.download('punkt_tab')\n",
        "nltk.download('averaged_perceptron_tagger_eng')"
      ],
      "metadata": {
        "colab": {
          "base_uri": "https://localhost:8080/"
        },
        "id": "Zfjt_1NisK6c",
        "outputId": "a7cb8da9-ccd6-41fa-c59f-456de22458f2"
      },
      "execution_count": 13,
      "outputs": [
        {
          "output_type": "stream",
          "name": "stderr",
          "text": [
            "[nltk_data] Downloading package punkt_tab to /root/nltk_data...\n",
            "[nltk_data]   Package punkt_tab is already up-to-date!\n",
            "[nltk_data] Downloading package averaged_perceptron_tagger_eng to\n",
            "[nltk_data]     /root/nltk_data...\n",
            "[nltk_data]   Package averaged_perceptron_tagger_eng is already up-to-\n",
            "[nltk_data]       date!\n"
          ]
        },
        {
          "output_type": "execute_result",
          "data": {
            "text/plain": [
              "True"
            ]
          },
          "metadata": {},
          "execution_count": 13
        }
      ]
    },
    {
      "cell_type": "code",
      "source": [
        "from nltk import word_tokenize"
      ],
      "metadata": {
        "id": "cqMgSm5rsou5"
      },
      "execution_count": 14,
      "outputs": []
    },
    {
      "cell_type": "code",
      "source": [
        "text=\"My name is Kartik Rupal . I am a pre final year student\""
      ],
      "metadata": {
        "id": "5brWXV58sW77"
      },
      "execution_count": 15,
      "outputs": []
    },
    {
      "cell_type": "code",
      "source": [
        "token=word_tokenize(text)\n",
        "token"
      ],
      "metadata": {
        "colab": {
          "base_uri": "https://localhost:8080/"
        },
        "id": "KOLzqbersgmz",
        "outputId": "6c9a8c9a-2740-4f6c-a132-a048c0864871"
      },
      "execution_count": 16,
      "outputs": [
        {
          "output_type": "execute_result",
          "data": {
            "text/plain": [
              "['My',\n",
              " 'name',\n",
              " 'is',\n",
              " 'Kartik',\n",
              " 'Rupal',\n",
              " '.',\n",
              " 'I',\n",
              " 'am',\n",
              " 'a',\n",
              " 'pre',\n",
              " 'final',\n",
              " 'year',\n",
              " 'student']"
            ]
          },
          "metadata": {},
          "execution_count": 16
        }
      ]
    },
    {
      "cell_type": "code",
      "source": [
        "pos_tags = nltk.pos_tag(token)"
      ],
      "metadata": {
        "id": "1iIzXtiAslM3"
      },
      "execution_count": 17,
      "outputs": []
    },
    {
      "cell_type": "code",
      "source": [
        "print(\"POS Tags:\")\n",
        "for word, tag in pos_tags:\n",
        "    print(f\"{word}: {tag}\")"
      ],
      "metadata": {
        "colab": {
          "base_uri": "https://localhost:8080/"
        },
        "id": "HYpvqhn5s4d0",
        "outputId": "f517e544-3892-4125-e195-2378208432c9"
      },
      "execution_count": 18,
      "outputs": [
        {
          "output_type": "stream",
          "name": "stdout",
          "text": [
            "POS Tags:\n",
            "My: PRP$\n",
            "name: NN\n",
            "is: VBZ\n",
            "Kartik: NNP\n",
            "Rupal: NNP\n",
            ".: .\n",
            "I: PRP\n",
            "am: VBP\n",
            "a: DT\n",
            "pre: NN\n",
            "final: JJ\n",
            "year: NN\n",
            "student: NN\n"
          ]
        }
      ]
    },
    {
      "cell_type": "code",
      "source": [
        "from nltk.chunk import RegexpParser\n"
      ],
      "metadata": {
        "id": "JpQsrhduti-c"
      },
      "execution_count": 20,
      "outputs": []
    },
    {
      "cell_type": "code",
      "source": [
        "grammar = \"NP: {<DT>?<JJ>*<NN.*>}\"\n"
      ],
      "metadata": {
        "id": "A_5aRSPcuGQX"
      },
      "execution_count": 30,
      "outputs": []
    },
    {
      "cell_type": "code",
      "source": [
        "\n",
        "# Step 5: Apply chunking\n",
        "chunk_parser = RegexpParser(grammar)\n",
        "chunk_tree = chunk_parser.parse(pos_tags)\n",
        "\n",
        "# Step 6: Print Chunked Tree Structure\n",
        "print(chunk_tree)"
      ],
      "metadata": {
        "colab": {
          "base_uri": "https://localhost:8080/"
        },
        "id": "QfbF3AwNs6Vk",
        "outputId": "eb8289ca-da52-464c-c76c-e21931a2798b"
      },
      "execution_count": 32,
      "outputs": [
        {
          "output_type": "stream",
          "name": "stdout",
          "text": [
            "(S\n",
            "  My/PRP$\n",
            "  (NP name/NN)\n",
            "  is/VBZ\n",
            "  (NP Kartik/NNP)\n",
            "  (NP Rupal/NNP)\n",
            "  ./.\n",
            "  I/PRP\n",
            "  am/VBP\n",
            "  (NP a/DT pre/NN)\n",
            "  (NP final/JJ year/NN)\n",
            "  (NP student/NN))\n"
          ]
        }
      ]
    },
    {
      "cell_type": "code",
      "source": [],
      "metadata": {
        "id": "c-sb6TExuyX5"
      },
      "execution_count": null,
      "outputs": []
    }
  ]
}