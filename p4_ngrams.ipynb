{
  "nbformat": 4,
  "nbformat_minor": 0,
  "metadata": {
    "colab": {
      "provenance": [],
      "authorship_tag": "ABX9TyM5QmTRd3/dqiickffGOPZ/",
      "include_colab_link": true
    },
    "kernelspec": {
      "name": "python3",
      "display_name": "Python 3"
    },
    "language_info": {
      "name": "python"
    }
  },
  "cells": [
    {
      "cell_type": "markdown",
      "metadata": {
        "id": "view-in-github",
        "colab_type": "text"
      },
      "source": [
        "<a href=\"https://colab.research.google.com/github/kartikrupal/NLP_clg/blob/main/p4_ngrams.ipynb\" target=\"_parent\"><img src=\"https://colab.research.google.com/assets/colab-badge.svg\" alt=\"Open In Colab\"/></a>"
      ]
    },
    {
      "cell_type": "code",
      "execution_count": 5,
      "metadata": {
        "colab": {
          "base_uri": "https://localhost:8080/"
        },
        "id": "FsPlU_v6Nwz_",
        "outputId": "517ee7ec-5ada-44e4-b21a-3881d7321168"
      },
      "outputs": [
        {
          "output_type": "stream",
          "name": "stdout",
          "text": [
            "Top 1-grams:\n",
            "this: 1\n",
            "is: 1\n",
            "a: 1\n",
            "simple: 1\n",
            "example: 1\n",
            "to: 1\n",
            "demonstrate: 1\n",
            "ngrams: 1\n",
            "generation: 1\n",
            "and: 1\n",
            "frequency: 1\n",
            "analysis: 1\n"
          ]
        },
        {
          "output_type": "stream",
          "name": "stderr",
          "text": [
            "[nltk_data] Downloading package punkt_tab to /root/nltk_data...\n",
            "[nltk_data]   Package punkt_tab is already up-to-date!\n"
          ]
        }
      ],
      "source": [
        "import re\n",
        "from collections import Counter\n",
        "from nltk.util import ngrams\n",
        "from nltk.tokenize import word_tokenize\n",
        "import nltk\n",
        "\n",
        "# Download necessary resources\n",
        "nltk.download('punkt_tab')\n",
        "\n",
        "def preprocess_text(text):\n",
        "    text = text.lower()  # Convert to lowercase\n",
        "    text = re.sub(r'[^a-z\\s]', '', text)  # Remove special characters and numbers\n",
        "    tokens = word_tokenize(text)  # Tokenize text\n",
        "    return tokens\n",
        "\n",
        "def generate_ngrams(tokens, n):\n",
        "    return list(ngrams(tokens, n))\n",
        "\n",
        "def analyze_ngrams(text, n):\n",
        "    tokens = preprocess_text(text)\n",
        "    ngram_list = generate_ngrams(tokens, n)\n",
        "    ngram_freq = Counter(ngram_list)\n",
        "    return ngram_freq.most_common()\n",
        "\n",
        "if __name__ == \"__main__\":\n",
        "    sample_text = \"This is a simple example to demonstrate N-grams generation and frequency analysis.\"\n",
        "    n = 1  # Change this to 1 for unigrams, 2 for bigrams, 3 for trigrams, etc.\n",
        "\n",
        "    ngram_frequencies = analyze_ngrams(sample_text, n)\n",
        "\n",
        "    print(f\"Top {n}-grams:\")\n",
        "    for ngram, freq in ngram_frequencies:\n",
        "        print(f\"{' '.join(ngram)}: {freq}\")\n"
      ]
    }
  ]
}