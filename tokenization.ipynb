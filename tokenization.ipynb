{
  "nbformat": 4,
  "nbformat_minor": 0,
  "metadata": {
    "colab": {
      "provenance": []
    },
    "kernelspec": {
      "name": "python3",
      "display_name": "Python 3"
    },
    "language_info": {
      "name": "python"
    }
  },
  "cells": [
    {
      "cell_type": "code",
      "execution_count": 3,
      "metadata": {
        "id": "YVDsrMmbdI-B"
      },
      "outputs": [],
      "source": [
        "import tensorflow as tf\n",
        "from tensorflow import keras\n",
        "from tensorflow.keras.preprocessing.text import Tokenizer\n",
        "from tensorflow.keras.preprocessing.sequence import pad_sequences"
      ]
    },
    {
      "cell_type": "code",
      "source": [
        "data=['kartik is a boy','bahaar? is a girl','kartik loves bahaar']"
      ],
      "metadata": {
        "id": "bXiyeS5hfvGT"
      },
      "execution_count": 4,
      "outputs": []
    },
    {
      "cell_type": "code",
      "source": [
        "tokenizer=Tokenizer(num_words=100,oov_token=\"<oov>\")"
      ],
      "metadata": {
        "id": "_Q-T3h10dbgs"
      },
      "execution_count": 5,
      "outputs": []
    },
    {
      "cell_type": "code",
      "source": [
        "tokenizer.fit_on_texts(data)"
      ],
      "metadata": {
        "id": "-SUZ5nPIgfAf"
      },
      "execution_count": 6,
      "outputs": []
    },
    {
      "cell_type": "code",
      "source": [
        "print(tokenizer.word_index)"
      ],
      "metadata": {
        "colab": {
          "base_uri": "https://localhost:8080/"
        },
        "id": "ScDwEzuHgDk2",
        "outputId": "952a2f67-69d3-465f-9734-7933898fadda"
      },
      "execution_count": 7,
      "outputs": [
        {
          "output_type": "stream",
          "name": "stdout",
          "text": [
            "{'<oov>': 1, 'kartik': 2, 'is': 3, 'a': 4, 'bahaar': 5, 'boy': 6, 'girl': 7, 'loves': 8}\n"
          ]
        }
      ]
    },
    {
      "cell_type": "code",
      "source": [
        "sen=tokenizer.texts_to_sequences(data)\n",
        "print(sen)"
      ],
      "metadata": {
        "colab": {
          "base_uri": "https://localhost:8080/"
        },
        "id": "ylA9dBH6gVrS",
        "outputId": "f3111e6a-ee85-40f3-ba4b-6a643450dd87"
      },
      "execution_count": 8,
      "outputs": [
        {
          "output_type": "stream",
          "name": "stdout",
          "text": [
            "[[2, 3, 4, 6], [5, 3, 4, 7], [2, 8, 5]]\n"
          ]
        }
      ]
    },
    {
      "cell_type": "code",
      "source": [
        "test=['bahaar loves a boy named kartik','kartik boy']"
      ],
      "metadata": {
        "id": "raCt3wJDiCKY"
      },
      "execution_count": 9,
      "outputs": []
    },
    {
      "cell_type": "code",
      "source": [
        "sen=tokenizer.texts_to_sequences(test)\n",
        "print(sen)\n"
      ],
      "metadata": {
        "colab": {
          "base_uri": "https://localhost:8080/"
        },
        "id": "t6vCEDDuiPh0",
        "outputId": "ec7fb30d-3939-41cf-a27e-97d79be30336"
      },
      "execution_count": 10,
      "outputs": [
        {
          "output_type": "stream",
          "name": "stdout",
          "text": [
            "[[5, 8, 4, 6, 1, 2], [2, 6]]\n"
          ]
        }
      ]
    },
    {
      "cell_type": "code",
      "source": [
        "padded=pad_sequences(sen)\n",
        "print(padded)"
      ],
      "metadata": {
        "colab": {
          "base_uri": "https://localhost:8080/"
        },
        "id": "AxIVCsv4iUcE",
        "outputId": "252061f0-b289-437c-8a8b-241f0fc6e19b"
      },
      "execution_count": 11,
      "outputs": [
        {
          "output_type": "stream",
          "name": "stdout",
          "text": [
            "[[5 8 4 6 1 2]\n",
            " [0 0 0 0 2 6]]\n"
          ]
        }
      ]
    },
    {
      "cell_type": "code",
      "source": [
        "def char_tokenize(sentences):\n",
        "    char_tokenizer = Tokenizer(char_level=True)\n",
        "    char_tokenizer.fit_on_texts(sentences)\n",
        "    char_index = char_tokenizer.word_index\n",
        "    return char_index\n",
        "\n",
        "char_index = char_tokenize(data)\n",
        "print(\"Character Tokenization:\", char_index)"
      ],
      "metadata": {
        "id": "UR2Tc76Xihtm",
        "colab": {
          "base_uri": "https://localhost:8080/"
        },
        "outputId": "338b02dc-719b-4f4a-ae73-c8bebf5f55c4"
      },
      "execution_count": 14,
      "outputs": [
        {
          "output_type": "stream",
          "name": "stdout",
          "text": [
            "Character Tokenization: {'a': 1, ' ': 2, 'r': 3, 'i': 4, 'k': 5, 's': 6, 'b': 7, 't': 8, 'o': 9, 'h': 10, 'l': 11, 'y': 12, '?': 13, 'g': 14, 'v': 15, 'e': 16}\n"
          ]
        }
      ]
    },
    {
      "cell_type": "code",
      "source": [
        "def subword_tokenize(sentences):\n",
        "    tokenizer_subword = Tokenizer(char_level=True)\n",
        "    tokenizer_subword.fit_on_texts(sentences)\n",
        "    subword_index = tokenizer_subword.word_index\n",
        "    return subword_index"
      ],
      "metadata": {
        "id": "3YQuLA88BHTv"
      },
      "execution_count": 18,
      "outputs": []
    },
    {
      "cell_type": "code",
      "source": [
        "subword_index = subword_tokenize(data)\n",
        "print(\"Subword Tokenization (simulated):\", subword_index)\n"
      ],
      "metadata": {
        "colab": {
          "base_uri": "https://localhost:8080/"
        },
        "id": "HAkG77FoB3IU",
        "outputId": "32a26a79-b3a7-4d15-d1ff-6c5e64ef66bd"
      },
      "execution_count": 19,
      "outputs": [
        {
          "output_type": "stream",
          "name": "stdout",
          "text": [
            "Subword Tokenization (simulated): {'a': 1, ' ': 2, 'r': 3, 'i': 4, 'k': 5, 's': 6, 'b': 7, 't': 8, 'o': 9, 'h': 10, 'l': 11, 'y': 12, '?': 13, 'g': 14, 'v': 15, 'e': 16}\n"
          ]
        }
      ]
    },
    {
      "cell_type": "code",
      "source": [],
      "metadata": {
        "id": "AmBz_fKNB5jp"
      },
      "execution_count": null,
      "outputs": []
    }
  ]
}