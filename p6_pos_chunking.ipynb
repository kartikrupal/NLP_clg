{
  "nbformat": 4,
  "nbformat_minor": 0,
  "metadata": {
    "colab": {
      "provenance": [],
      "authorship_tag": "ABX9TyM3TMf3GLVrUsVuuheQguLQ",
      "include_colab_link": true
    },
    "kernelspec": {
      "name": "python3",
      "display_name": "Python 3"
    },
    "language_info": {
      "name": "python"
    }
  },
  "cells": [
    {
      "cell_type": "markdown",
      "metadata": {
        "id": "view-in-github",
        "colab_type": "text"
      },
      "source": [
        "<a href=\"https://colab.research.google.com/github/kartikrupal/NLP_clg/blob/main/p6_pos_chunking.ipynb\" target=\"_parent\"><img src=\"https://colab.research.google.com/assets/colab-badge.svg\" alt=\"Open In Colab\"/></a>"
      ]
    },
    {
      "cell_type": "code",
      "execution_count": 5,
      "metadata": {
        "colab": {
          "base_uri": "https://localhost:8080/"
        },
        "id": "FLrDRnM1XoXZ",
        "outputId": "d316d193-9bed-45f6-89a9-e6bbf7d50c77"
      },
      "outputs": [
        {
          "output_type": "stream",
          "name": "stderr",
          "text": [
            "[nltk_data] Downloading package punkt_tab to /root/nltk_data...\n",
            "[nltk_data]   Package punkt_tab is already up-to-date!\n",
            "[nltk_data] Downloading package averaged_perceptron_tagger_eng to\n",
            "[nltk_data]     /root/nltk_data...\n",
            "[nltk_data]   Package averaged_perceptron_tagger_eng is already up-to-\n",
            "[nltk_data]       date!\n"
          ]
        },
        {
          "output_type": "execute_result",
          "data": {
            "text/plain": [
              "True"
            ]
          },
          "metadata": {},
          "execution_count": 5
        }
      ],
      "source": [
        "import nltk\n",
        "from nltk import word_tokenize, pos_tag\n",
        "from nltk.chunk import RegexpParser\n",
        "\n",
        "# Download necessary resources\n",
        "nltk.download('punkt_tab')\n",
        "nltk.download('averaged_perceptron_tagger_eng')\n",
        "\n",
        "\n"
      ]
    },
    {
      "cell_type": "code",
      "source": [
        " # Step 1: Input Text\n",
        "text = \"The quick brown fox jumps over the lazy dog.\"\n",
        "\n",
        "    # Step 2: Tokenize the text\n",
        "tokens = word_tokenize(text)\n",
        "\n",
        "\n",
        "\n"
      ],
      "metadata": {
        "id": "-G3ljJ5xYRJs"
      },
      "execution_count": 6,
      "outputs": []
    },
    {
      "cell_type": "code",
      "source": [
        " # Step 3: Perform PoS tagging\n",
        "pos_tags = pos_tag(tokens)\n",
        "print(\"PoS Tags:\", pos_tags)\n",
        "\n",
        ""
      ],
      "metadata": {
        "colab": {
          "base_uri": "https://localhost:8080/"
        },
        "id": "cWm1OMWFYZi1",
        "outputId": "dd43bacf-b302-4b47-f675-eabcf2eb2379"
      },
      "execution_count": 7,
      "outputs": [
        {
          "output_type": "stream",
          "name": "stdout",
          "text": [
            "PoS Tags: [('The', 'DT'), ('quick', 'JJ'), ('brown', 'NN'), ('fox', 'NN'), ('jumps', 'VBZ'), ('over', 'IN'), ('the', 'DT'), ('lazy', 'JJ'), ('dog', 'NN'), ('.', '.')]\n"
          ]
        }
      ]
    },
    {
      "cell_type": "code",
      "source": [
        "  # Step 4: Define chunking grammar rules\n",
        "grammar = r\"\"\"\n",
        "      NP: {<DT>?<JJ>*<NN>}           # Noun Phrase\n",
        "      VP: {<VB.*><NP|PP|CLAUSE>+$}   # Verb Phrase\n",
        "      PP: {<IN><NP>}                 # Prepositional Phrase\n",
        "    \"\"\"\n",
        "\n",
        ""
      ],
      "metadata": {
        "id": "5lzW-yRBYd_v"
      },
      "execution_count": 8,
      "outputs": []
    },
    {
      "cell_type": "code",
      "source": [
        "# Step 5: Apply chunking\n",
        "chunk_parser = RegexpParser(grammar)\n",
        "chunk_tree = chunk_parser.parse(pos_tags)\n",
        "\n"
      ],
      "metadata": {
        "id": "iKNGSCCbYhYl"
      },
      "execution_count": 9,
      "outputs": []
    },
    {
      "cell_type": "code",
      "source": [
        "    # Step 6: Visualize the chunks\n",
        "chunk_tree.pretty_print()\n"
      ],
      "metadata": {
        "colab": {
          "base_uri": "https://localhost:8080/"
        },
        "id": "3ueHmPWFYlBO",
        "outputId": "f5c702ab-f97f-4777-b683-1dacb906ef8e"
      },
      "execution_count": 12,
      "outputs": [
        {
          "output_type": "stream",
          "name": "stdout",
          "text": [
            "                                 S                                             \n",
            "     ____________________________|____________________________                  \n",
            "    |      |            |                |                    PP               \n",
            "    |      |            |                |        ____________|_____            \n",
            "    |      |            NP               NP      |                  NP         \n",
            "    |      |     _______|________        |       |       ___________|______     \n",
            "jumps/VBZ ./. The/DT quick/JJ brown/NN fox/NN over/IN the/DT     lazy/JJ dog/NN\n",
            "\n"
          ]
        }
      ]
    },
    {
      "cell_type": "code",
      "source": [],
      "metadata": {
        "id": "n3oRMf7JYmG1"
      },
      "execution_count": null,
      "outputs": []
    }
  ]
}