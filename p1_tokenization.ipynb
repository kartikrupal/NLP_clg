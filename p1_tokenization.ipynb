{
  "nbformat": 4,
  "nbformat_minor": 0,
  "metadata": {
    "colab": {
      "provenance": [],
      "authorship_tag": "ABX9TyPMFVPizbwPm+WNJ2MMUDA0",
      "include_colab_link": true
    },
    "kernelspec": {
      "name": "python3",
      "display_name": "Python 3"
    },
    "language_info": {
      "name": "python"
    }
  },
  "cells": [
    {
      "cell_type": "markdown",
      "metadata": {
        "id": "view-in-github",
        "colab_type": "text"
      },
      "source": [
        "<a href=\"https://colab.research.google.com/github/kartikrupal/NLP_clg/blob/main/p1_tokenization.ipynb\" target=\"_parent\"><img src=\"https://colab.research.google.com/assets/colab-badge.svg\" alt=\"Open In Colab\"/></a>"
      ]
    },
    {
      "cell_type": "code",
      "execution_count": 22,
      "metadata": {
        "id": "YVDsrMmbdI-B"
      },
      "outputs": [],
      "source": [
        "import tensorflow as tf\n",
        "from tensorflow import keras\n",
        "from tensorflow.keras.preprocessing.text import Tokenizer\n",
        "from tensorflow.keras.preprocessing.sequence import pad_sequences"
      ]
    },
    {
      "cell_type": "code",
      "source": [
        "data=['kartik is a boy','bahaar? is a girl','kartik loves bahaar']"
      ],
      "metadata": {
        "id": "bXiyeS5hfvGT"
      },
      "execution_count": 23,
      "outputs": []
    },
    {
      "cell_type": "code",
      "source": [
        "tokenizer=Tokenizer(num_words=100,oov_token=\"<oov>\")"
      ],
      "metadata": {
        "id": "_Q-T3h10dbgs"
      },
      "execution_count": 24,
      "outputs": []
    },
    {
      "cell_type": "code",
      "source": [
        "tokenizer.fit_on_texts(data)"
      ],
      "metadata": {
        "id": "-SUZ5nPIgfAf"
      },
      "execution_count": 25,
      "outputs": []
    },
    {
      "cell_type": "code",
      "source": [
        "print(\"Word Tokenization:\")\n",
        "print(tokenizer.word_index)"
      ],
      "metadata": {
        "colab": {
          "base_uri": "https://localhost:8080/"
        },
        "id": "ScDwEzuHgDk2",
        "outputId": "485daa66-2f5f-4e8b-ab4a-fec7ff776f3e"
      },
      "execution_count": 35,
      "outputs": [
        {
          "output_type": "stream",
          "name": "stdout",
          "text": [
            "Word Tokenization:\n",
            "{'<oov>': 1, 'kartik': 2, 'is': 3, 'a': 4, 'bahaar': 5, 'boy': 6, 'girl': 7, 'loves': 8}\n"
          ]
        }
      ]
    },
    {
      "cell_type": "code",
      "source": [
        "sen=tokenizer.texts_to_sequences(data)\n",
        "print(\"Sentence Tokenization:\")\n",
        "print(sen)"
      ],
      "metadata": {
        "colab": {
          "base_uri": "https://localhost:8080/"
        },
        "id": "ylA9dBH6gVrS",
        "outputId": "29f11a76-4753-49de-d03c-2fe49ca6596a"
      },
      "execution_count": 27,
      "outputs": [
        {
          "output_type": "stream",
          "name": "stdout",
          "text": [
            "Sentence Tokenization:\n",
            "[[2, 3, 4, 6], [5, 3, 4, 7], [2, 8, 5]]\n"
          ]
        }
      ]
    },
    {
      "cell_type": "code",
      "source": [
        "test=['bahaar loves a boy named kartik','kartik boy']"
      ],
      "metadata": {
        "id": "raCt3wJDiCKY"
      },
      "execution_count": 28,
      "outputs": []
    },
    {
      "cell_type": "code",
      "source": [
        "sen=tokenizer.texts_to_sequences(test)\n",
        "print(sen)\n"
      ],
      "metadata": {
        "colab": {
          "base_uri": "https://localhost:8080/"
        },
        "id": "t6vCEDDuiPh0",
        "outputId": "cb32ae27-6532-428d-c3e8-6bf62be9e4a2"
      },
      "execution_count": 29,
      "outputs": [
        {
          "output_type": "stream",
          "name": "stdout",
          "text": [
            "[[5, 8, 4, 6, 1, 2], [2, 6]]\n"
          ]
        }
      ]
    },
    {
      "cell_type": "code",
      "source": [
        "padded=pad_sequences(sen)\n",
        "print(padded)"
      ],
      "metadata": {
        "colab": {
          "base_uri": "https://localhost:8080/"
        },
        "id": "AxIVCsv4iUcE",
        "outputId": "d23a74d0-673c-4969-a35b-356004f3311f"
      },
      "execution_count": 30,
      "outputs": [
        {
          "output_type": "stream",
          "name": "stdout",
          "text": [
            "[[5 8 4 6 1 2]\n",
            " [0 0 0 0 2 6]]\n"
          ]
        }
      ]
    },
    {
      "cell_type": "code",
      "source": [
        "import nltk\n"
      ],
      "metadata": {
        "id": "wHMQiphdAPBp"
      },
      "execution_count": 31,
      "outputs": []
    },
    {
      "cell_type": "code",
      "source": [
        "data_second=\"kartik is a boy bahaar? is a girl kartik loves bahaar\""
      ],
      "metadata": {
        "id": "40m_lBlsAO2w"
      },
      "execution_count": 32,
      "outputs": []
    },
    {
      "cell_type": "code",
      "source": [
        "from nltk.tokenize import regexp_tokenize\n",
        "regexp_tokens = regexp_tokenize(data_second, pattern=r'\\b\\w+\\b')\n",
        "print(\"RegExp Tokenization:\")\n",
        "print(regexp_tokens)"
      ],
      "metadata": {
        "colab": {
          "base_uri": "https://localhost:8080/"
        },
        "id": "pWsKrJfSAOrb",
        "outputId": "b4e7f62c-87a6-4ec5-c73f-20e51fbeae9d"
      },
      "execution_count": 33,
      "outputs": [
        {
          "output_type": "stream",
          "name": "stdout",
          "text": [
            "RegExp Tokenization:\n",
            "['kartik', 'is', 'a', 'boy', 'bahaar', 'is', 'a', 'girl', 'kartik', 'loves', 'bahaar']\n"
          ]
        }
      ]
    },
    {
      "cell_type": "code",
      "source": [
        "from nltk.tokenize import TweetTokenizer\n",
        "tweet_tokenizer = TweetTokenizer()\n",
        "tweet_tokens = tweet_tokenizer.tokenize(data_second)\n",
        "print(\"Tweet Tokenization:\")\n",
        "print(tweet_tokens)"
      ],
      "metadata": {
        "colab": {
          "base_uri": "https://localhost:8080/"
        },
        "id": "SWqjQt_pAOf0",
        "outputId": "b2abb157-010f-4fa8-df8c-7271ea5bae5a"
      },
      "execution_count": 34,
      "outputs": [
        {
          "output_type": "stream",
          "name": "stdout",
          "text": [
            "Tweet Tokenization:\n",
            "['kartik', 'is', 'a', 'boy', 'bahaar', '?', 'is', 'a', 'girl', 'kartik', 'loves', 'bahaar']\n"
          ]
        }
      ]
    },
    {
      "cell_type": "code",
      "source": [],
      "metadata": {
        "id": "yBirJxOtAOVu"
      },
      "execution_count": 34,
      "outputs": []
    }
  ]
}