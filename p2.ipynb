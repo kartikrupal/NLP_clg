{
  "nbformat": 4,
  "nbformat_minor": 0,
  "metadata": {
    "colab": {
      "provenance": [],
      "authorship_tag": "ABX9TyMdpRUWz0k8L07rmRBiSQVG",
      "include_colab_link": true
    },
    "kernelspec": {
      "name": "python3",
      "display_name": "Python 3"
    },
    "language_info": {
      "name": "python"
    }
  },
  "cells": [
    {
      "cell_type": "markdown",
      "metadata": {
        "id": "view-in-github",
        "colab_type": "text"
      },
      "source": [
        "<a href=\"https://colab.research.google.com/github/kartikrupal/NLP_clg/blob/main/p2.ipynb\" target=\"_parent\"><img src=\"https://colab.research.google.com/assets/colab-badge.svg\" alt=\"Open In Colab\"/></a>"
      ]
    },
    {
      "cell_type": "code",
      "execution_count": 13,
      "metadata": {
        "id": "fYnX97TBZ7pj"
      },
      "outputs": [],
      "source": [
        "import nltk"
      ]
    },
    {
      "cell_type": "code",
      "source": [
        "nltk.download('punkt_tab')"
      ],
      "metadata": {
        "colab": {
          "base_uri": "https://localhost:8080/"
        },
        "id": "bgJEpXsHdUVQ",
        "outputId": "5bde11d0-1001-4cdb-815e-74ddef15acbd"
      },
      "execution_count": 14,
      "outputs": [
        {
          "output_type": "stream",
          "name": "stderr",
          "text": [
            "[nltk_data] Downloading package punkt_tab to /root/nltk_data...\n",
            "[nltk_data]   Package punkt_tab is already up-to-date!\n"
          ]
        },
        {
          "output_type": "execute_result",
          "data": {
            "text/plain": [
              "True"
            ]
          },
          "metadata": {},
          "execution_count": 14
        }
      ]
    },
    {
      "cell_type": "code",
      "source": [
        "data=\"Programmers are  programming a program currently in computers by their ability\""
      ],
      "metadata": {
        "id": "MMb__rMKZ_er"
      },
      "execution_count": 15,
      "outputs": []
    },
    {
      "cell_type": "code",
      "source": [
        "tokens=nltk.word_tokenize(data)\n",
        "print(tokens)"
      ],
      "metadata": {
        "colab": {
          "base_uri": "https://localhost:8080/"
        },
        "id": "2tOtcfn9dL9j",
        "outputId": "5cf1e581-2fc1-4763-bd18-63b06c6c3256"
      },
      "execution_count": 16,
      "outputs": [
        {
          "output_type": "stream",
          "name": "stdout",
          "text": [
            "['Programmers', 'are', 'programming', 'a', 'program', 'currently', 'in', 'computers', 'by', 'their', 'ability']\n"
          ]
        }
      ]
    },
    {
      "cell_type": "code",
      "source": [
        "from nltk import PorterStemmer"
      ],
      "metadata": {
        "id": "PK4EYIlbdL62"
      },
      "execution_count": 17,
      "outputs": []
    },
    {
      "cell_type": "code",
      "source": [
        "stemming=PorterStemmer()"
      ],
      "metadata": {
        "id": "mGVgtMH4dL4Q"
      },
      "execution_count": 18,
      "outputs": []
    },
    {
      "cell_type": "code",
      "source": [
        "for element in tokens:\n",
        "    print(element,\"->\",stemming.stem(element))"
      ],
      "metadata": {
        "colab": {
          "base_uri": "https://localhost:8080/"
        },
        "id": "ApMgCxJ2dL1j",
        "outputId": "e87baf35-1e9c-4a21-e181-ea82aa01cfb0"
      },
      "execution_count": 19,
      "outputs": [
        {
          "output_type": "stream",
          "name": "stdout",
          "text": [
            "Programmers -> programm\n",
            "are -> are\n",
            "programming -> program\n",
            "a -> a\n",
            "program -> program\n",
            "currently -> current\n",
            "in -> in\n",
            "computers -> comput\n",
            "by -> by\n",
            "their -> their\n",
            "ability -> abil\n"
          ]
        }
      ]
    },
    {
      "cell_type": "code",
      "source": [
        "from nltk.stem import WordNetLemmatizer\n"
      ],
      "metadata": {
        "id": "yvWf0SnSdLy0"
      },
      "execution_count": 20,
      "outputs": []
    },
    {
      "cell_type": "code",
      "source": [
        "nltk.download('wordnet')"
      ],
      "metadata": {
        "colab": {
          "base_uri": "https://localhost:8080/"
        },
        "id": "XcCq1INEARC9",
        "outputId": "28b0dfbd-3619-419f-c642-fc3a4c9476c9"
      },
      "execution_count": 21,
      "outputs": [
        {
          "output_type": "stream",
          "name": "stderr",
          "text": [
            "[nltk_data] Downloading package wordnet to /root/nltk_data...\n",
            "[nltk_data]   Package wordnet is already up-to-date!\n"
          ]
        },
        {
          "output_type": "execute_result",
          "data": {
            "text/plain": [
              "True"
            ]
          },
          "metadata": {},
          "execution_count": 21
        }
      ]
    },
    {
      "cell_type": "code",
      "source": [
        "lemmatizer = WordNetLemmatizer()\n"
      ],
      "metadata": {
        "id": "9UFbdIQpdLtM"
      },
      "execution_count": 22,
      "outputs": []
    },
    {
      "cell_type": "code",
      "source": [
        "for element in tokens:\n",
        "    print(element,\"->\",lemmatizer.lemmatize(element))"
      ],
      "metadata": {
        "id": "G9Td3N9BdLm1",
        "colab": {
          "base_uri": "https://localhost:8080/"
        },
        "outputId": "bddc86fb-24f2-4f44-a159-32739e77f8f4"
      },
      "execution_count": 23,
      "outputs": [
        {
          "output_type": "stream",
          "name": "stdout",
          "text": [
            "Programmers -> Programmers\n",
            "are -> are\n",
            "programming -> programming\n",
            "a -> a\n",
            "program -> program\n",
            "currently -> currently\n",
            "in -> in\n",
            "computers -> computer\n",
            "by -> by\n",
            "their -> their\n",
            "ability -> ability\n"
          ]
        }
      ]
    }
  ]
}