{
  "nbformat": 4,
  "nbformat_minor": 0,
  "metadata": {
    "colab": {
      "provenance": [],
      "authorship_tag": "ABX9TyN+3+sl9YYPrCBIYAbebMo8",
      "include_colab_link": true
    },
    "kernelspec": {
      "name": "python3",
      "display_name": "Python 3"
    },
    "language_info": {
      "name": "python"
    }
  },
  "cells": [
    {
      "cell_type": "markdown",
      "metadata": {
        "id": "view-in-github",
        "colab_type": "text"
      },
      "source": [
        "<a href=\"https://colab.research.google.com/github/kartikrupal/NLP_clg/blob/main/lab_final.ipynb\" target=\"_parent\"><img src=\"https://colab.research.google.com/assets/colab-badge.svg\" alt=\"Open In Colab\"/></a>"
      ]
    },
    {
      "cell_type": "code",
      "execution_count": 15,
      "metadata": {
        "colab": {
          "base_uri": "https://localhost:8080/"
        },
        "id": "5CqZUGfKHb6v",
        "outputId": "a54cdcb1-af8f-48de-9596-e53ea4f4c849"
      },
      "outputs": [
        {
          "output_type": "stream",
          "name": "stdout",
          "text": [
            "Tokens: ['I', 'am', 'Kartik', 'Rupal', '.', 'I', 'am', 'in', 'third', 'year', '.', 'I', 'am', 'Pro', 'swimmer', '.', 'He', 'is', 'an', 'intelligent', 'student']\n",
            "\n",
            "POS Tags: [('I', 'PRP'), ('am', 'VBP'), ('Kartik', 'NNP'), ('Rupal', 'NNP'), ('.', '.'), ('I', 'PRP'), ('am', 'VBP'), ('in', 'IN'), ('third', 'JJ'), ('year', 'NN'), ('.', '.'), ('I', 'PRP'), ('am', 'VBP'), ('Pro', 'JJ'), ('swimmer', 'NN'), ('.', '.'), ('He', 'PRP'), ('is', 'VBZ'), ('an', 'DT'), ('intelligent', 'JJ'), ('student', 'NN')]\n",
            "\n",
            "Chunked Output:\n",
            "(S\n",
            "  I/PRP\n",
            "  am/VBP\n",
            "  Kartik/NNP\n",
            "  Rupal/NNP\n",
            "  ./.\n",
            "  I/PRP\n",
            "  am/VBP\n",
            "  in/IN\n",
            "  (NP third/JJ year/NN)\n",
            "  ./.\n",
            "  I/PRP\n",
            "  am/VBP\n",
            "  (NP Pro/JJ swimmer/NN)\n",
            "  ./.\n",
            "  He/PRP\n",
            "  is/VBZ\n",
            "  (NP an/DT intelligent/JJ student/NN))\n"
          ]
        },
        {
          "output_type": "stream",
          "name": "stderr",
          "text": [
            "[nltk_data] Downloading package punkt_tab to /root/nltk_data...\n",
            "[nltk_data]   Package punkt_tab is already up-to-date!\n",
            "[nltk_data] Downloading package averaged_perceptron_tagger_eng to\n",
            "[nltk_data]     /root/nltk_data...\n",
            "[nltk_data]   Package averaged_perceptron_tagger_eng is already up-to-\n",
            "[nltk_data]       date!\n"
          ]
        }
      ],
      "source": [
        "import nltk\n",
        "from nltk import pos_tag, word_tokenize, RegexpParser\n",
        "\n",
        "\n",
        "nltk.download('punkt_tab')\n",
        "nltk.download('averaged_perceptron_tagger_eng')\n",
        "\n",
        "text = \"I am Kartik Rupal. I am in third year. I am Pro swimmer. He is an intelligent student\"\n",
        "\n",
        "tokens = word_tokenize(text)\n",
        "print(\"Tokens:\", tokens)\n",
        "\n",
        "pos_tags = pos_tag(tokens)\n",
        "print(\"\\nPOS Tags:\", pos_tags)\n",
        "\n",
        "grammar = r\"\"\"\n",
        "  NP: {<DT>?<JJ>*<NN>}\n",
        "\"\"\"\n",
        "\n",
        "chunk_parser = RegexpParser(grammar)\n",
        "\n",
        "chunked_output = chunk_parser.parse(pos_tags)\n",
        "print(\"\\nChunked Output:\")\n",
        "print(chunked_output)\n",
        "\n"
      ]
    },
    {
      "cell_type": "code",
      "source": [],
      "metadata": {
        "id": "66o3WEePHq_0"
      },
      "execution_count": null,
      "outputs": []
    }
  ]
}