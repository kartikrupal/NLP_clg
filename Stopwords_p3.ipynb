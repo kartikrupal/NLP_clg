{
  "nbformat": 4,
  "nbformat_minor": 0,
  "metadata": {
    "colab": {
      "provenance": [],
      "authorship_tag": "ABX9TyP3AdkSg3X9JCwDr9h4L8lQ",
      "include_colab_link": true
    },
    "kernelspec": {
      "name": "python3",
      "display_name": "Python 3"
    },
    "language_info": {
      "name": "python"
    }
  },
  "cells": [
    {
      "cell_type": "markdown",
      "metadata": {
        "id": "view-in-github",
        "colab_type": "text"
      },
      "source": [
        "<a href=\"https://colab.research.google.com/github/kartikrupal/NLP_clg/blob/main/Stopwords_p3.ipynb\" target=\"_parent\"><img src=\"https://colab.research.google.com/assets/colab-badge.svg\" alt=\"Open In Colab\"/></a>"
      ]
    },
    {
      "cell_type": "code",
      "execution_count": 1,
      "metadata": {
        "id": "5EsL13gkqN5q"
      },
      "outputs": [],
      "source": [
        "import nltk"
      ]
    },
    {
      "cell_type": "code",
      "source": [
        "nltk.download(\"stopwords\")"
      ],
      "metadata": {
        "colab": {
          "base_uri": "https://localhost:8080/"
        },
        "id": "LI5aeEvnqUIM",
        "outputId": "7daf88c8-0e97-44d3-8d62-682e0b410e75"
      },
      "execution_count": 2,
      "outputs": [
        {
          "output_type": "stream",
          "name": "stderr",
          "text": [
            "[nltk_data] Downloading package stopwords to /root/nltk_data...\n",
            "[nltk_data]   Unzipping corpora/stopwords.zip.\n"
          ]
        },
        {
          "output_type": "execute_result",
          "data": {
            "text/plain": [
              "True"
            ]
          },
          "metadata": {},
          "execution_count": 2
        }
      ]
    },
    {
      "cell_type": "code",
      "source": [
        "from nltk.corpus import stopwords\n",
        "from nltk import word_tokenize"
      ],
      "metadata": {
        "id": "32s34MYxqYMl"
      },
      "execution_count": 12,
      "outputs": []
    },
    {
      "cell_type": "code",
      "source": [
        "nltk.download(\"punkt_tab\")"
      ],
      "metadata": {
        "colab": {
          "base_uri": "https://localhost:8080/"
        },
        "id": "8ZijznV3sgHM",
        "outputId": "32afe0d4-fc05-4b17-97a3-7ac982b796e5"
      },
      "execution_count": 16,
      "outputs": [
        {
          "output_type": "stream",
          "name": "stderr",
          "text": [
            "[nltk_data] Downloading package punkt_tab to /root/nltk_data...\n",
            "[nltk_data]   Unzipping tokenizers/punkt_tab.zip.\n"
          ]
        },
        {
          "output_type": "execute_result",
          "data": {
            "text/plain": [
              "True"
            ]
          },
          "metadata": {},
          "execution_count": 16
        }
      ]
    },
    {
      "cell_type": "code",
      "source": [
        "text2=\"Programming is the process of designing, writing, testing, and maintaining the source code of computer programs. It involves using a set of instructions to communicate with computers and create software applications. Programming languages, such as Python, C++, Java, and others, provide the syntax and structure needed to write these instructions effectively. Through programming, developers can solve problems, automate tasks, and create everything from simple scripts to complex systems like websites, mobile apps, and machine learning models. It is both an art and a science, requiring creativity, logical thinking, and a solid understanding of algorithms and data structures.\""
      ],
      "metadata": {
        "id": "ShxoKYoDuYsh"
      },
      "execution_count": 24,
      "outputs": []
    },
    {
      "cell_type": "code",
      "source": [
        "words = word_tokenize(text2)\n"
      ],
      "metadata": {
        "id": "gyDAF-VTsgpi"
      },
      "execution_count": 25,
      "outputs": []
    },
    {
      "cell_type": "code",
      "source": [
        "stop_words=set(stopwords.words(\"english\"))\n",
        "filtered_words = [word for word in words if word.lower() not in stop_words]\n",
        "\n",
        "print(filtered_words)"
      ],
      "metadata": {
        "colab": {
          "base_uri": "https://localhost:8080/"
        },
        "id": "1H-mo2t7qdiu",
        "outputId": "17102baf-d995-4133-a8c4-573dd0e10aa6"
      },
      "execution_count": 26,
      "outputs": [
        {
          "output_type": "stream",
          "name": "stdout",
          "text": [
            "['Programming', 'process', 'designing', ',', 'writing', ',', 'testing', ',', 'maintaining', 'source', 'code', 'computer', 'programs', '.', 'involves', 'using', 'set', 'instructions', 'communicate', 'computers', 'create', 'software', 'applications', '.', 'Programming', 'languages', ',', 'Python', ',', 'C++', ',', 'Java', ',', 'others', ',', 'provide', 'syntax', 'structure', 'needed', 'write', 'instructions', 'effectively', '.', 'programming', ',', 'developers', 'solve', 'problems', ',', 'automate', 'tasks', ',', 'create', 'everything', 'simple', 'scripts', 'complex', 'systems', 'like', 'websites', ',', 'mobile', 'apps', ',', 'machine', 'learning', 'models', '.', 'art', 'science', ',', 'requiring', 'creativity', ',', 'logical', 'thinking', ',', 'solid', 'understanding', 'algorithms', 'data', 'structures', '.']\n"
          ]
        }
      ]
    },
    {
      "cell_type": "code",
      "source": [
        "import nltk\n",
        "from nltk.corpus import stopwords\n",
        "from nltk.tokenize import word_tokenize\n",
        "\n",
        "\n",
        "\n",
        "# Sample text\n",
        "sample_text = \"This is a simple example to demonstrate how to remove stop words using NLTK.\"\n",
        "\n",
        "# Tokenize text\n",
        "words = word_tokenize(sample_text)\n",
        "\n",
        "# Get stop words\n",
        "stop_words = set(stopwords.words('english'))\n",
        "\n",
        "# Remove stop words\n",
        "filtered_words = [word for word in words if word.lower() not in stop_words]\n",
        "\n",
        "# Display the result\n",
        "print(filtered_words)\n"
      ],
      "metadata": {
        "colab": {
          "base_uri": "https://localhost:8080/"
        },
        "id": "pjNiLh22rP89",
        "outputId": "5a4f1e2c-581a-4e01-8add-bc90311ab2be"
      },
      "execution_count": 27,
      "outputs": [
        {
          "output_type": "stream",
          "name": "stdout",
          "text": [
            "['simple', 'example', 'demonstrate', 'remove', 'stop', 'words', 'using', 'NLTK', '.']\n"
          ]
        }
      ]
    },
    {
      "cell_type": "code",
      "source": [],
      "metadata": {
        "id": "2Hi3gyIusxqZ"
      },
      "execution_count": null,
      "outputs": []
    }
  ]
}